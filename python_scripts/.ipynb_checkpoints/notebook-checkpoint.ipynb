{
 "cells": [
  {
   "cell_type": "code",
   "execution_count": 13,
   "metadata": {},
   "outputs": [],
   "source": [
    "import numpy as np\n",
    "import matplotlib.pyplot as plt\n",
    "%matplotlib inline\n",
    "from scipy.integrate import odeint\n",
    "from aux_functions import parameters_load, initialization, waypoints_updater\n",
    "from HSFM_functions import HSFM_forces\n",
    "\n",
    "global waypoints\n",
    "\n",
    "def HSFM_system(X, t, N, n_groups, map_walls, num_walls, r, m, J, v0, group_membership):\n",
    "    global waypoints\n",
    "    tau, A, B, Aw, Bw, k1, k2, kd, ko, k1g, k2g, d_o, d_f, alpha = parameters_load()\n",
    "\n",
    "    # Positions and velocities\n",
    "    position = np.zeros((N, 2))\n",
    "    vel = np.zeros((N, 2))\n",
    "    for i in range(N):\n",
    "        position[i,:] = [X[6 * i - 6], X[6 * i - 5]]\n",
    "        vel[i,:] = [X[6 * i - 3] * np.cos(X[6 * i - 4]), X[6 * i - 3] * np.sin(X[6 * i - 4])]\n",
    "\n",
    "    e, e_act, e_ind, e_n, e_seq = waypoints.waypoint_update(position, 15)\n",
    "\n",
    "    # Acting forces\n",
    "    F0, Fe, ang = HSFM_forces(X, e, N, map_walls, num_walls, r, m, v0)\n",
    "    FT = F0 + Fe\n",
    "\n",
    "    # Magnitude of F0\n",
    "    F_nV=(np.sqrt(np.sum(np.abs(F0)**2, 1)))\n",
    "\n",
    "    #  desired theta\n",
    "    thr=np.mod(ang, 2*np.pi).flatten()\n",
    "\n",
    "    # actual theta\n",
    "    th = np.mod(X.__getitem__(slice(2, None, 6)), 2*np.pi)\n",
    "\n",
    "    # angle to rotate\n",
    "    ang = th - thr\n",
    "    td = np.vstack((ang, ang+2*np.pi, ang-2*np.pi))\n",
    "    I = np.argmin(np.abs(td), 0)\n",
    "\n",
    "    dX = np.zeros((6*N,1)).flatten()\n",
    "\n",
    "    # center o of mass of each group\n",
    "    ci = {}\n",
    "    for k in range(len(n_groups)):\n",
    "        ci[k] = np.array([0, 0])\n",
    "\n",
    "    for i in range(N):\n",
    "        ci[int(group_membership[i])] = ci[int(group_membership[i])] + position[i]\n",
    "\n",
    "    for k in range(len(n_groups)):\n",
    "        ci[k] = ci[k] / n_groups[k]\n",
    "\n",
    "    for i in range(N):\n",
    "        a = td[I[i], i]\n",
    "        kl = 0.3\n",
    "        kth = J[i] * kl * F_nV[i]\n",
    "        kom = J[i] * (1+alpha) * np.sqrt(kl * F_nV[i] / alpha)\n",
    "\n",
    "        p_i = ci[int(group_membership[i])]-position[i]\n",
    "\n",
    "        dX[6*i] = X[6*i+3] * np.cos(X[6*i+2]) - X[6*i+4] * np.sin(X[6*i+2])\n",
    "        dX[6*i+1] = X[6*i+3] * np.sin(X[6*i+2]) + X[6*i+4] * np.cos(X[6*i+2])\n",
    "        dX[6*i+2] = X[6*i+5]\n",
    "\n",
    "        # Here we substitute the step function in the definition of the group\n",
    "        # cohesion forces with a sigmoid\n",
    "        uf_group = k1g * (1+np.tanh(5*(np.abs(np.dot(p_i, [np.cos(X[6*i+2]), np.sin(X[6*i+2])])-d_f)-3))) * \\\n",
    "                   np.dot(p_i / np.linalg.norm(p_i), [np.cos(X[6*i+2]), np.sin(X[6*i+2])])\n",
    "        uo_group = k2g * (1+np.tanh(5*(np.abs(np.dot(p_i, [-np.sin(X[6*i+2]), np.cos(X[6*i+2])])-d_o)-3))) * \\\n",
    "                   np.dot(p_i / np.linalg.norm(p_i), [-np.sin(X[6*i+2]), np.cos(X[6*i+2])])\n",
    "\n",
    "        dX[6*i+3] = 1 / m[i] * (np.dot(FT[i], [np.cos(X[6*i+2]), np.sin(X[6*i+2])]) + uf_group)\n",
    "        dX[6*i+4] = 1 / m[i] * (ko*np.dot(Fe[i], [-np.sin(X[6*i+2]), np.cos(X[6*i+2])]) - kd * X[6*i+4] + uo_group)\n",
    "        dX[6*i+5] = 1 / J[i] * (-kth * a - kom * X[6*i+5])\n",
    "\n",
    "    return dX"
   ]
  },
  {
   "cell_type": "code",
   "execution_count": 16,
   "metadata": {},
   "outputs": [
    {
     "name": "stderr",
     "output_type": "stream",
     "text": [
      "/home/francesco/Documenti/GitHubSites/HeadedSocialForceModel/python_scripts/HSFM_functions.py:59: RuntimeWarning: invalid value encountered in double_scalars\n",
      "  t = ((xp - xa) * (xb - xa) + (yp - ya) * (yb - ya)) / ((xb - xa) ** 2 + (yb - ya) ** 2)\n"
     ]
    }
   ],
   "source": [
    "# Simulation time\n",
    "TF = 20\n",
    "t_fine = 1/30  # timing accuracy in the movie (framerate=30)\n",
    "\n",
    "tau, A, B, Aw, Bw, k1, k2, kd, ko, k1g, k2g, d_o, d_f, alpha = parameters_load()\n",
    "\n",
    "# Initial conditions\n",
    "# Number of individuals in each group\n",
    "# Define n_i the number of individuals in group i, then\n",
    "# n_groups = [n_1, n_2, ..., n_N];\n",
    "n_groups = [6, 6]\n",
    "# Total number of individuals\n",
    "N = sum(n_groups)\n",
    "\n",
    "# s{i} contains the starting point of group i\n",
    "s = {}\n",
    "s[0] = [2.5, 0]\n",
    "s[1] = [2.5, 25]\n",
    "\n",
    "# waypoints sequence\n",
    "e_seq = {}\n",
    "# e_seq{i} contains the points through which the members of group i have to pass\n",
    "e_seq[0] = np.array([[3, 10], [2.5, 1000]]).transpose()\n",
    "e_seq[1] = np.array([[2, 10], [2.5, -1000]]).transpose()\n",
    "\n",
    "e_n = {}        # Number of waypoints\n",
    "e_ind = {}      # auxiliary index\n",
    "\n",
    "for i in range(len(n_groups)):\n",
    "    aux, e_n[i] = e_seq[i].shape                        # number of waypoints of group i\n",
    "    e_ind[i] = np.zeros((n_groups[i], 1), dtype=int)    # current waypoint for group i\n",
    "\n",
    "# \"am\" represents the amplitude of the starting zone. Fix the starting\n",
    "# points at least at \"am\" meters from the walls\n",
    "am = 2\n",
    "\n",
    "# Individual characteristics\n",
    "# Radius\n",
    "rm = 0.25  # minimum radius\n",
    "rM = 0.35  # maximum radius\n",
    "# Mass\n",
    "mm = 60  # minimum mass\n",
    "mM = 90  # maximum mass\n",
    "# Desired speed\n",
    "v0m = 1  # minimum speed\n",
    "v0M = 1.2  # maximum speed\n",
    "\n",
    "# Initialization\n",
    "map_walls, num_walls, r, m, J, v0, v, th, omg, group_membership, X0, p = initialization(n_groups, N, rm, rM, mm, mM, v0m, v0M, s, am)\n",
    "\n",
    "\n",
    "# Assign the actual position as the current waypoint\n",
    "e_act = {}\n",
    "for i in range(len(n_groups)):\n",
    "    e_act[i] = np.zeros((n_groups[i], 2))\n",
    "for i in range(N):\n",
    "    e_act[int(group_membership[i])][i - sum(n_groups[0:int(group_membership[i])])] = p[i][0:2]\n",
    "\n",
    "\n",
    "waypoints = waypoints_updater(e_seq, e_n, e_ind, e_act, N, n_groups, group_membership)\n",
    "\n",
    "\n",
    "t = np.linspace(0, 1, 300)\n",
    "sol = odeint(HSFM_system, X0, t, args=(N, n_groups, map_walls, num_walls, r, m, J, v0, group_membership))"
   ]
  },
  {
   "cell_type": "code",
   "execution_count": 25,
   "metadata": {},
   "outputs": [
    {
     "data": {
      "image/png": "[encoded data removed]",
      "text/plain": [
       "<matplotlib.figure.Figure at 0x7f9502dd8630>"
      ]
     },
     "metadata": {},
     "output_type": "display_data"
    }
   ],
   "source": [
    "plt.figure(figsize=[6, 6])\n",
    "plt.plot(sol[:,0:6:], sol[:,1:6:])\n",
    "plt.axis('equal')\n",
    "plt.show()"
   ]
  },
  {
   "cell_type": "code",
   "execution_count": 12,
   "metadata": {},
   "outputs": [
    {
     "name": "stdout",
     "output_type": "stream",
     "text": [
      "{0: array([[0],\n",
      "       [1],\n",
      "       [1],\n",
      "       [1],\n",
      "       [1],\n",
      "       [1]]), 1: array([[1],\n",
      "       [1],\n",
      "       [1],\n",
      "       [1],\n",
      "       [1],\n",
      "       [1]])}\n"
     ]
    }
   ],
   "source": [
    "print(waypoints.e_ind)"
   ]
  }
 ],
 "metadata": {
  "kernelspec": {
   "display_name": "Python 3",
   "language": "python",
   "name": "python3"
  },
  "language_info": {
   "codemirror_mode": {
    "name": "ipython",
    "version": 3
   },
   "file_extension": ".py",
   "mimetype": "text/x-python",
   "name": "python",
   "nbconvert_exporter": "python",
   "pygments_lexer": "ipython3",
   "version": "3.6.0b2"
  }
 },
 "nbformat": 4,
 "nbformat_minor": 1
}
